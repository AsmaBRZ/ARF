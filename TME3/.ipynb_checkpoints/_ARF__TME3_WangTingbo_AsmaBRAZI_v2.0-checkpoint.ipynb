{
 "cells": [
  {
   "cell_type": "markdown",
   "metadata": {},
   "source": [
    "# <center>TME 3 - Descente de gradient</center>"
   ]
  },
  {
   "cell_type": "markdown",
   "metadata": {},
   "source": [
    "#  <center>Algorithme de descente de gradient</center>"
   ]
  },
  {
   "cell_type": "markdown",
   "metadata": {},
   "source": [
    "### Coder une fonction optimize(fonc,dfonc,xinit,eps,max_iter)"
   ]
  },
  {
   "cell_type": "code",
   "execution_count": 1,
   "metadata": {},
   "outputs": [],
   "source": [
    "import numpy as np\n",
    "from numpy import random\n",
    "import matplotlib.pyplot as plt\n",
    "from matplotlib import cm\n",
    "from mpl_toolkits.mplot3d import Axes3D"
   ]
  },
  {
   "cell_type": "code",
   "execution_count": 7,
   "metadata": {},
   "outputs": [],
   "source": [
    "def optimize(fonc,dfonc,xinit,eps,max_iter):\n",
    "    x_histo,f_histo,grad_histo=[],[],[]\n",
    "    for i in range(max_iter):\n",
    "        f_histo.append(fonc(xinit))\n",
    "        xinit= dfonc(xinit)\n",
    "        grad_histo.append(xinit)\n",
    "        x_histo.append(xinit-eps*xinit)\n",
    "    return np.array(x_histo),np.array(f_histo),np.array(grad_histo)"
   ]
  },
  {
   "cell_type": "markdown",
   "metadata": {},
   "source": [
    "#  <center>Optimisation de fonctions</center>"
   ]
  },
  {
   "cell_type": "markdown",
   "metadata": {},
   "source": [
    "### • en 1d sur la fonction f(x) = x cos(x)"
   ]
  },
  {
   "cell_type": "code",
   "execution_count": 3,
   "metadata": {},
   "outputs": [],
   "source": [
    "def fonc1(x):\n",
    "    return x*np.cos(x)\n",
    "\n",
    "def dfonc1(x):\n",
    "    return np.cos(x)-x*np.sin(x)"
   ]
  },
  {
   "cell_type": "code",
   "execution_count": 4,
   "metadata": {},
   "outputs": [
    {
     "data": {
      "text/plain": [
       "(array([ 2.30056979,  2.23083802,  2.03704528,  1.33805815, -1.04738936,\n",
       "        -1.15703092, -1.19022664, -1.18298039, -1.18527364, -1.18459111]),\n",
       " array([ 8.39071529, -0.51081881, -1.1069181 , -2.42746433, -2.39139854,\n",
       "         1.04808522,  1.56591591,  1.72356862,  1.68924572,  1.70011514]),\n",
       " array([ 4.60113958,  4.46167603,  4.07409057,  2.67611629, -2.09477872,\n",
       "        -2.31406184, -2.38045328, -2.36596077, -2.37054727, -2.36918221]))"
      ]
     },
     "execution_count": 4,
     "metadata": {},
     "output_type": "execute_result"
    }
   ],
   "source": [
    "res1=optimize(fonc1,dfonc1,-10,0.5,10)\n",
    "res1"
   ]
  },
  {
   "cell_type": "markdown",
   "metadata": {},
   "source": [
    "### • en 1d sur la fonction − log(x) + x2"
   ]
  },
  {
   "cell_type": "code",
   "execution_count": 5,
   "metadata": {},
   "outputs": [],
   "source": [
    "def fonc2(x):\n",
    "    return -np.log(x)+x**2\n",
    "\n",
    "def dfonc2(x):\n",
    "    return -1/x+2*x"
   ]
  },
  {
   "cell_type": "code",
   "execution_count": 6,
   "metadata": {},
   "outputs": [
    {
     "data": {
      "text/plain": [
       "(array([   9.95      ,   19.87487437,   39.73717005,   79.46804876,\n",
       "         158.9329516 ,  317.8643302 ,  635.7278739 , 1271.45535455,\n",
       "        2542.91051248, 5085.82092665]),\n",
       " array([9.76974149e+01, 3.93019280e+02, 1.57635992e+03, 6.31179530e+03,\n",
       "        2.52556146e+04, 1.01032971e+05, 4.04144475e+05, 1.61659257e+06,\n",
       "        6.46638703e+06, 2.58655670e+07]),\n",
       " array([   19.9       ,    39.74974874,    79.4743401 ,   158.93609751,\n",
       "          317.86590319,   635.7286604 ,  1271.4557478 ,  2542.91070911,\n",
       "         5085.82102496, 10171.6418533 ]))"
      ]
     },
     "execution_count": 6,
     "metadata": {},
     "output_type": "execute_result"
    }
   ],
   "source": [
    "res2=optimize(fonc2,dfonc2,10,0.5,10)\n",
    "res2"
   ]
  },
  {
   "cell_type": "markdown",
   "metadata": {},
   "source": [
    "### • en 2d sur la fonction Rosenbrock (ou banana), définie par : f(x1; x2) = 100∗(x2−x2 1)2+(1−x1)2."
   ]
  },
  {
   "cell_type": "code",
   "execution_count": 7,
   "metadata": {},
   "outputs": [],
   "source": [
    "def fonc3(x):\n",
    "    x1,x2 =x[:,0], x[:,1]\n",
    "    return 100*(x2-x1**2)**2+(1-x1)**2\n",
    "\n",
    "def dfonc3(x):\n",
    "    x1,x2 =x[:,0], x[:,1]\n",
    "    return np.array([-400*x1*(x2-x1**2)+(1-x1)**2,-199*x1**2-2*x1+200*x2+1]).T    "
   ]
  },
  {
   "cell_type": "code",
   "execution_count": 9,
   "metadata": {},
   "outputs": [],
   "source": [
    "res3=optimize(fonc3,dfonc3,np.array([[-1,-1]]),0.005,60)"
   ]
  },
  {
   "cell_type": "markdown",
   "metadata": {},
   "source": [
    "### Tracer :\n",
    "### • en fonction du nombre d’itérations, les valeurs de f et du gradient de f"
   ]
  },
  {
   "cell_type": "code",
   "execution_count": 32,
   "metadata": {},
   "outputs": [
    {
     "data": {
      "image/png": "[encoded data removed]",
      "text/plain": [
       "<Figure size 432x288 with 1 Axes>"
      ]
     },
     "metadata": {
      "needs_background": "light"
     },
     "output_type": "display_data"
    }
   ],
   "source": [
    "#Tracer de la fonction f(x) = x cos(x)\n",
    "x_histo, f_histo, grad_histo=res1\n",
    "plt.figure()\n",
    "plt.plot(f_histo,label=\"f(x)\")\n",
    "plt.plot( grad_histo,label=\"f'(x)\")\n",
    "plt.legend()\n",
    "plt.show()"
   ]
  },
  {
   "cell_type": "code",
   "execution_count": 33,
   "metadata": {},
   "outputs": [
    {
     "data": {
      "image/png": "[encoded data removed]",
      "text/plain": [
       "<Figure size 432x288 with 1 Axes>"
      ]
     },
     "metadata": {
      "needs_background": "light"
     },
     "output_type": "display_data"
    }
   ],
   "source": [
    "#Tracer de la fonction − log(x) + x2\n",
    "x_histo, f_histo, grad_histo=res2\n",
    "plt.figure()\n",
    "plt.plot(f_histo,label=\"f(x)\")\n",
    "plt.plot( grad_histo,label=\"f'(x)\")\n",
    "plt.legend()\n",
    "plt.show()"
   ]
  },
  {
   "cell_type": "code",
   "execution_count": 35,
   "metadata": {},
   "outputs": [
    {
     "data": {
      "text/plain": [
       "array([  2.31258509,   1.64943791,   1.2939728 ,   1.07629073,\n",
       "         0.94314718,   0.87082562,   0.84667494,   0.86314355,\n",
       "         0.91536052,   1.        ,   1.11468982,   1.25767844,\n",
       "         1.42763574,   1.62352776,   1.84453489,   2.08999637,\n",
       "         2.35937175,   2.65221334,   2.96814611,   3.30685282,\n",
       "         3.66806266,   4.05154264,   4.45709088,   4.88453126,\n",
       "         5.33370927,   5.80448855,   6.29674823,   6.81038058,\n",
       "         7.34528926,   7.90138771,   8.47859789,   9.07684919,\n",
       "         9.69607753,  10.33622457,  10.99723703,  11.67906615,\n",
       "        12.38166718,  13.10499893,  13.84902345,  14.61370564,\n",
       "        15.39901303,  16.20491547,  17.03138498,  17.87839546,\n",
       "        18.7459226 ,  19.6339437 ,  20.54243749,  21.47138408,\n",
       "        22.42076479,  23.39056209,  24.38075946,  25.39134137,\n",
       "        26.42229318,  27.47360105,  28.54525191,  29.6372334 ,\n",
       "        30.74953383,  31.88214208,  33.03504765,  34.20824053,\n",
       "        35.40171123,  36.61545071,  37.84945037,  39.10370201,\n",
       "        40.37819782,  41.67293035,  42.98789247,  44.32307739,\n",
       "        45.67847859,  47.05408985,  48.44990522,  49.86591897,\n",
       "        51.30212565,  52.75852   ,  54.23509698,  55.73185175,\n",
       "        57.24877967,  58.78587627,  60.34313724,  61.92055846,\n",
       "        63.51813594,  65.13586585,  66.77374449,  68.43176829,\n",
       "        70.10993384,  71.8082378 ,  73.52667697,  75.26524828,\n",
       "        77.02394872,  78.80277542,  80.60172559,  82.42079652,\n",
       "        84.2599856 ,  86.11929031,  87.9987082 ,  89.8982369 ,\n",
       "        91.81787411,  93.75761761,  95.71746524,  97.69741491,\n",
       "        99.69746458, 101.71761228, 103.7578561 , 105.81819419,\n",
       "       107.89862474, 109.999146  , 112.11975626, 114.26045387,\n",
       "       116.42123721, 118.60210473, 120.80305489, 123.02408622,\n",
       "       125.26519727, 127.52638664, 129.80765296, 132.1089949 ,\n",
       "       134.43041116, 136.77190047, 139.1334616 , 141.51509335,\n",
       "       143.91679455, 146.33856405, 148.78040074, 151.24230353,\n",
       "       153.72427136, 156.22630319, 158.74839801, 161.29055483,\n",
       "       163.85277269, 166.43505064, 169.03738777, 171.65978317,\n",
       "       174.30223596, 176.96474529, 179.64731031, 182.34993021,\n",
       "       185.07260417, 187.81533141, 190.57811116, 193.36094267,\n",
       "       196.1638252 , 198.98675804, 201.82974046, 204.69277179,\n",
       "       207.57585135, 210.47897847, 213.40215251, 216.34537282,\n",
       "       219.30863879, 222.2919498 , 225.29530526, 228.31870457,\n",
       "       231.36214717, 234.42563249, 237.50915998, 240.61272909,\n",
       "       243.73633929, 246.87999006, 250.04368089, 253.22741128,\n",
       "       256.43118073, 259.65498876, 262.89883489, 266.16271867,\n",
       "       269.44663962, 272.7505973 , 276.07459128, 279.41862111,\n",
       "       282.78268638, 286.16678666, 289.57092154, 292.99509062,\n",
       "       296.4392935 , 299.90352979, 303.38779912, 306.8921011 ,\n",
       "       310.41643536, 313.96080154, 317.52519929, 321.10962824,\n",
       "       324.71408806, 328.33857841, 331.98309894, 335.64764934,\n",
       "       339.33222927, 343.03683842, 346.76147648, 350.50614313,\n",
       "       354.27083808, 358.05556102, 361.86031166, 365.68508972,\n",
       "       369.5298949 , 373.39472693, 377.27958553, 381.18447043,\n",
       "       385.10938136, 389.05431806, 393.01928027])"
      ]
     },
     "execution_count": 35,
     "metadata": {},
     "output_type": "execute_result"
    }
   ],
   "source": [
    " fonc2(abscisses)"
   ]
  },
  {
   "cell_type": "code",
   "execution_count": 49,
   "metadata": {},
   "outputs": [
    {
     "data": {
      "image/png": "[encoded data removed]",
      "text/plain": [
       "<Figure size 432x288 with 1 Axes>"
      ]
     },
     "metadata": {
      "needs_background": "light"
     },
     "output_type": "display_data"
    }
   ],
   "source": [
    "# fLa trajectoire de l'optimisation de la fonction2\n",
    "X = np.arange(0.1, 30., 0.2)\n",
    "plt.plot(X,fonc2(X), color=\"g\", label=\"f(x)\")\n",
    "plt.plot(x_histo[0], f_histo[0], \"o\", color=\"r\", label=\"init\")\n",
    "plt.plot(f_histo, color=\"b\", label=\"Optimisation curve\")\n",
    "plt.legend()\n",
    "plt.show()"
   ]
  },
  {
   "cell_type": "code",
   "execution_count": 131,
   "metadata": {},
   "outputs": [
    {
     "data": {
      "image/png": "[encoded data removed]",
      "text/plain": [
       "<Figure size 432x288 with 1 Axes>"
      ]
     },
     "metadata": {
      "needs_background": "light"
     },
     "output_type": "display_data"
    },
    {
     "data": {
      "image/png": "[encoded data removed]",
      "text/plain": [
       "<Figure size 432x288 with 2 Axes>"
      ]
     },
     "metadata": {
      "needs_background": "light"
     },
     "output_type": "display_data"
    }
   ],
   "source": [
    "#Tracer de la fonction Rosenbrock\n",
    "def make_grid(xmin=-5,xmax=5,ymin=-5,ymax=5,step=20,data=None):\n",
    "    \"\"\" Cree une grille sous forme de matrice 2d de la liste des points\n",
    "    :return: une matrice 2d contenant les points de la grille, la liste x, la liste y\n",
    "    \"\"\"\n",
    "    if data is not None:\n",
    "        xmax,xmin,ymax,ymin = np.max(data[:,0]),np.min(data[:,0]),\\\n",
    "                              np.max(data[:,1]),np.min(data[:,1])\n",
    "    x,y = np.meshgrid(np.arange(xmin,xmax,(xmax-xmin)*1./step),\n",
    "                      np.arange(ymin,ymax,(ymax-ymin)*1./step))\n",
    "    grid=np.c_[x.ravel(),y.ravel()]\n",
    "    return grid, x, y\n",
    "\n",
    "        \n",
    "\n",
    "mafonction =  fonc3\n",
    "## Grille de discretisation\n",
    "grid , xx , yy = make_grid(xmin=-1,xmax=1,ymin=-1,ymax=1)\n",
    "## Affichage 2D\n",
    "plt.contourf( xx , yy , mafonction( grid ).reshape( xx.shape ) )\n",
    "fig = plt.figure( )\n",
    "## construction d’un referentiel 3d\n",
    "ax = fig.gca(projection='3d')\n",
    "surf = ax.plot_surface( xx , yy , mafonction(grid).reshape(xx.shape),rstride=1, cstride =1,\\\n",
    "cmap=cm.gist_rainbow , linewidth =0, antialiased=False)\n",
    "fig.colorbar(surf)\n",
    "#ax.plot(x_histo[ : , 0 ] ,x_histo [ : , 1 ] ,f_histo.ravel() , color='black' )\n",
    "plt.show()"
   ]
  },
  {
   "cell_type": "markdown",
   "metadata": {},
   "source": [
    "## Régression logistique"
   ]
  },
  {
   "cell_type": "code",
   "execution_count": 2,
   "metadata": {},
   "outputs": [],
   "source": [
    "def load_usps(filename):\n",
    "    with open(filename,\"r\") as f:\n",
    "        f.readline()\n",
    "        data =[ [float(x) for x in l.split()] for l in f if len(l.split())>2]\n",
    "    tmp = np.array(data)\n",
    "    return tmp[:,1:],tmp[:,0].astype(int)"
   ]
  },
  {
   "cell_type": "code",
   "execution_count": 3,
   "metadata": {},
   "outputs": [],
   "source": [
    "datax_train, datay_train = load_usps(\"USPS_train.txt\")\n",
    "datax_test, datay_test = load_usps(\"USPS_test.txt\")"
   ]
  },
  {
   "cell_type": "code",
   "execution_count": 46,
   "metadata": {},
   "outputs": [],
   "source": [
    "class Logistic_regression:\n",
    "    def __init__(self, max_iter, eps):\n",
    "        self.max_iter = max_iter\n",
    "        self.eps = eps\n",
    "        \n",
    "    def fit(self, datax, datay):\n",
    "        self.w = np.random.random((1,datax.shape[1]))\n",
    "        self.w = self.optimize(self.fonc, self.dfonc, self.eps,self.max_iter, self.w,datax,datay)\n",
    "        \n",
    "    def sigmoid(self,x):\n",
    "        sig= 1.0/(1.0 + np.exp(-self.w.dot(x.T)))\n",
    "        return 1 if sig < 0.5 else -1\n",
    "\n",
    "    def predict(self, datax):\n",
    "        result=np.zeros((datax.shape[0], 1))\n",
    "        i=0\n",
    "        for x in datax:\n",
    "            sig_x = self.sigmoid(x)\n",
    "            result[i]=sig_x\n",
    "            i+=1\n",
    "        return result\n",
    "    \n",
    "    def score(self, datax, datay):\n",
    "        return np.mean(self.predict(datax) == datay)\n",
    "    \n",
    "    def fonc(self, w,datax,datay):\n",
    "        result = 0.0\n",
    "        for i in range(len(datax)):\n",
    "            result += np.log(1 + np.exp(-(2*datay[i]-1) * np.dot(w,datax[i].T)))\n",
    "        return result/len(datax)\n",
    "    \n",
    "    def dfonc(self, w,datax,datay):\n",
    "        res = 0.0\n",
    "        for i in range(len(datax)):\n",
    "            res += (-(2*datay[i]-1) * datax[i] * np.exp(-(2*datay[i]-1) * np.dot(w,datax[i].T)))/(1 + np.exp(-(2*datay[i]-1) * np.dot(w,datax[i].T)))\n",
    "        return res/len(datax)\n",
    "           \n",
    "    def optimize(self,fonc,dfonc,eps,max_iter,w,datax,datay):\n",
    "        ww = w.copy()\n",
    "        for i in range(self.max_iter):\n",
    "            df_w=self.dfonc(ww,datax,datay)\n",
    "            ww=ww-self.eps*df_w\n",
    "        return ww\n"
   ]
  },
  {
   "cell_type": "code",
   "execution_count": 31,
   "metadata": {},
   "outputs": [],
   "source": [
    "lr=Logistic_regression(1000, 0.05)\n",
    "lr.fit(datax_train,datay_train)"
   ]
  },
  {
   "cell_type": "code",
   "execution_count": 47,
   "metadata": {},
   "outputs": [
    {
     "name": "stderr",
     "output_type": "stream",
     "text": [
      "/usr/local/lib/python2.7/site-packages/ipykernel_launcher.py:35: RuntimeWarning: overflow encountered in exp\n"
     ]
    }
   ],
   "source": [
    "lr=Logistic_regression(200, 0.05)\n",
    "lr.fit(datax_train,datay_train)"
   ]
  },
  {
   "cell_type": "code",
   "execution_count": 50,
   "metadata": {},
   "outputs": [
    {
     "name": "stdout",
     "output_type": "stream",
     "text": [
      "('Score train :', 0.0)\n",
      "('Score test :', array([[False, False, False, ..., False, False, False],\n",
      "       [False, False, False, ..., False, False, False],\n",
      "       [False, False, False, ..., False, False, False],\n",
      "       ...,\n",
      "       [False, False, False, ..., False, False, False],\n",
      "       [False, False, False, ..., False, False, False],\n",
      "       [False, False, False, ..., False, False, False]]))\n"
     ]
    }
   ],
   "source": [
    "print(\"Score train :\", np.mean(lr.score(datax_train,datay_train)))\n",
    "print(\"Score test :\", lr.score(datax_test,datay_test))"
   ]
  },
  {
   "cell_type": "code",
   "execution_count": 218,
   "metadata": {},
   "outputs": [
    {
     "name": "stdout",
     "output_type": "stream",
     "text": [
      "Score train : 0.02104200064708152\n",
      "Score test : 0.021693877110233763\n"
     ]
    }
   ],
   "source": [
    "print(\"Score train :\", lr.score(datax_train,datay_train))\n",
    "print(\"Score test :\", lr.score(datax_test,datay_test))"
   ]
  },
  {
   "cell_type": "code",
   "execution_count": 268,
   "metadata": {},
   "outputs": [
    {
     "name": "stdout",
     "output_type": "stream",
     "text": [
      "Score train : 0.012402113588935738\n",
      "Score test : 0.011404032076074546\n"
     ]
    }
   ],
   "source": [
    "lr=Logistic_regression(150, 0.001)\n",
    "lr.fit(datax_train,datay_train)\n",
    "print(\"Score train :\", lr.score(datax_train,datay_train))\n",
    "print(\"Score test :\", lr.score(datax_test,datay_test))"
   ]
  },
  {
   "cell_type": "code",
   "execution_count": 270,
   "metadata": {},
   "outputs": [
    {
     "name": "stdout",
     "output_type": "stream",
     "text": [
      "Score train : 0.020607170445030416\n",
      "Score test : 0.021104013382160943\n"
     ]
    }
   ],
   "source": [
    "lr=Logistic_regression(1500, 0.001)\n",
    "lr.fit(datax_train,datay_train)\n",
    "print(\"Score train :\", lr.score(datax_train,datay_train))\n",
    "print(\"Score test :\", lr.score(datax_test,datay_test))"
   ]
  }
 ],
 "metadata": {
  "kernelspec": {
   "display_name": "Python 2",
   "language": "python",
   "name": "python2"
  },
  "language_info": {
   "codemirror_mode": {
    "name": "ipython",
    "version": 2
   },
   "file_extension": ".py",
   "mimetype": "text/x-python",
   "name": "python",
   "nbconvert_exporter": "python",
   "pygments_lexer": "ipython2",
   "version": "2.7.15"
  }
 },
 "nbformat": 4,
 "nbformat_minor": 2
}
