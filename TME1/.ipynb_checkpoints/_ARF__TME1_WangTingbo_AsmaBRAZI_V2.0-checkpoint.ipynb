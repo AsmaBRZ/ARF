{
 "cells": [
  {
   "cell_type": "markdown",
   "metadata": {},
   "source": [
    "# <center><font size=7>TME 1 - Arbres de décision, sélection de modèles</font></center>"
   ]
  },
  {
   "cell_type": "markdown",
   "metadata": {},
   "source": [
    "# <center><font size=6>L’essentiel sur les arbres de décision</font></center>"
   ]
  },
  {
   "cell_type": "markdown",
   "metadata": {},
   "source": [
    "## Exercice 1 – Entropie (partie optionnelle)"
   ]
  },
  {
   "cell_type": "markdown",
   "metadata": {},
   "source": [
    "### Q 1.1"
   ]
  },
  {
   "cell_type": "code",
   "execution_count": 13,
   "metadata": {},
   "outputs": [
    {
     "name": "stdout",
     "output_type": "stream",
     "text": [
      "##################################################\n",
      "test la fonction entropie 2.2359263506290326\n",
      "##################################################\n"
     ]
    }
   ],
   "source": [
    "import numpy as np\n",
    "from collections import Counter\n",
    "import pickle\n",
    "\n",
    "def entropie(vect):\n",
    "    ylen = float(vect.size)\n",
    "    if ylen <= 1:\n",
    "        return 0\n",
    "    freq = np.array(list(Counter(vect).values()))/ylen\n",
    "    return -np.nan_to_num(np.sum(freq*np.log2(freq)))\n",
    "\n",
    "x=np.array([1,2,1,2,4,5,6])\n",
    "print(\"#\"*50)\n",
    "print(\"test la fonction entropie\",entropie(x))\n",
    "print(\"#\"*50)"
   ]
  },
  {
   "cell_type": "markdown",
   "metadata": {},
   "source": [
    "### Q 1.2"
   ]
  },
  {
   "cell_type": "code",
   "execution_count": 14,
   "metadata": {},
   "outputs": [],
   "source": [
    "def entropie_cond(y_list):\n",
    "    h, total = 0.,0.\n",
    "    for y in y_list:\n",
    "        h += len(y)*entropie(y)\n",
    "        total += len(y)\n",
    "    return h/total"
   ]
  },
  {
   "cell_type": "markdown",
   "metadata": {},
   "source": [
    "### Q 1.3"
   ]
  },
  {
   "cell_type": "code",
   "execution_count": 15,
   "metadata": {},
   "outputs": [],
   "source": [
    "# data : tableau ( films , features ) , id2titles : dictionnaire id -> titre ,\n",
    "# fields : id feature -> nom\n",
    "[data,id2titles, fields]= pickle.load(open(\"imdb_extrait.pkl \",\"rb\"))\n",
    "# la derniere colonne est le vote\n",
    "datax = data [: ,:32]\n",
    "datay = np . array ([1 if x [33] >6.5 else -1 for x in data ])"
   ]
  },
  {
   "cell_type": "markdown",
   "metadata": {},
   "source": [
    "En calculant la difference entre l'entropie et l'entropie conditionnelle. Nous interpretons les valeurs obtenues comme suit<br>\n",
    "-Pour la valeur 0: l'ensemble est homogene et ne comporte pas de desequilibret<br>\n",
    "-Pour la valeur 1: l'ensemble ne contient pas de desordre"
   ]
  },
  {
   "cell_type": "code",
   "execution_count": 16,
   "metadata": {},
   "outputs": [
    {
     "name": "stdout",
     "output_type": "stream",
     "text": [
      "##################################################\n",
      "Calculer également la différence entre l’entropie et l’entropie conditionnelle pour chaque attribut:\n",
      "2\n",
      "##################################################\n"
     ]
    }
   ],
   "source": [
    "print(\"#\"*50)\n",
    "print(\"Calculer également la différence entre l’entropie et l’entropie conditionnelle pour chaque attribut:\")\n",
    "differenceDeEntropieEtEntropieConditionnelle=[]     #la différence entre l’entropie et l’entropie conditionnelle pour chaque attribut\n",
    "databinaire=data[: ,:28].T\n",
    "entrCondDataX=entropie_cond(databinaire)\n",
    "for i in range(databinaire.shape[0]):\n",
    "    differenceDeEntropieEtEntropieConditionnelle.append(entropie(databinaire[i])-entrCondDataX)\n",
    "print(29-np.argmin(np.abs(differenceDeEntropieEtEntropieConditionnelle)))    #car on a transforme la matrice de data,donc la première en fait est la dernier\n",
    "#print(differenceDeEntropieEtEntropieConditionnelle)\n",
    "print(\"#\"*50)"
   ]
  },
  {
   "cell_type": "markdown",
   "metadata": {},
   "source": [
    "donc,couleur est le meilleur attribut pour la première partition"
   ]
  },
  {
   "cell_type": "markdown",
   "metadata": {},
   "source": [
    "## Quelques expériences préliminaires"
   ]
  },
  {
   "cell_type": "code",
   "execution_count": 17,
   "metadata": {},
   "outputs": [
    {
     "name": "stdout",
     "output_type": "stream",
     "text": [
      "0.736429038587312\n",
      "var Drama :  > 0.500000 \n",
      "\tvar budget :  > 15660000.000000 \n",
      "\t\tvar Duree :  > 115.500000 \n",
      "\t\t\tvar budget :  > 36500000.000000 \n",
      "\t\t\t\tvar Duree :  > 137.500000 \n",
      "\t\t\t\t\tclass : 1 {1: 101, -1: 20}\n",
      "\t\t\t\tvar Duree :  <= 137.500000 \n",
      "\t\t\t\t\tclass : 1 {-1: 94, 1: 109}\n",
      "\t\t\tvar budget :  <= 36500000.000000 \n",
      "\t\t\t\tvar Sci-Fi :  > 0.500000 \n",
      "\t\t\t\t\tclass : -1 {-1: 5, 1: 4}\n",
      "\t\t\t\tvar Sci-Fi :  <= 0.500000 \n",
      "\t\t\t\t\tclass : 1 {1: 252, -1: 31}\n",
      "\t\tvar Duree :  <= 115.500000 \n",
      "\t\t\tvar Biography :  > 0.500000 \n",
      "\t\t\t\tvar annee :  > 2011.500000 \n",
      "\t\t\t\t\tclass : -1 {-1: 2}\n",
      "\t\t\t\tvar annee :  <= 2011.500000 \n",
      "\t\t\t\t\tclass : 1 {1: 24, -1: 2}\n",
      "\t\t\tvar Biography :  <= 0.500000 \n",
      "\t\t\t\tvar Thriller :  > 0.500000 \n",
      "\t\t\t\t\tclass : -1 {-1: 162, 1: 66}\n",
      "\t\t\t\tvar Thriller :  <= 0.500000 \n",
      "\t\t\t\t\tclass : -1 {1: 135, -1: 149}\n",
      "\tvar budget :  <= 15660000.000000 \n",
      "\t\tvar annee :  > 1973.500000 \n",
      "\t\t\tvar Duree :  > 104.500000 \n",
      "\t\t\t\tvar budget :  > 11158052.500000 \n",
      "\t\t\t\t\tclass : 1 {1: 131, -1: 39}\n",
      "\t\t\t\tvar budget :  <= 11158052.500000 \n",
      "\t\t\t\t\tclass : 1 {-1: 25, 1: 321}\n",
      "\t\t\tvar Duree :  <= 104.500000 \n",
      "\t\t\t\tvar Thriller :  > 0.500000 \n",
      "\t\t\t\t\tclass : 1 {1: 57, -1: 51}\n",
      "\t\t\t\tvar Thriller :  <= 0.500000 \n",
      "\t\t\t\t\tclass : 1 {1: 239, -1: 75}\n",
      "\t\tvar annee :  <= 1973.500000 \n",
      "\t\t\tclass : 1 {1: 175}\n",
      "var Drama :  <= 0.500000 \n",
      "\tvar annee :  > 1984.500000 \n",
      "\t\tvar Duree :  > 110.500000 \n",
      "\t\t\tvar Duree :  > 134.500000 \n",
      "\t\t\t\tvar Duree :  > 177.000000 \n",
      "\t\t\t\t\tclass : 1 {1: 14}\n",
      "\t\t\t\tvar Duree :  <= 177.000000 \n",
      "\t\t\t\t\tclass : 1 {-1: 26, 1: 74}\n",
      "\t\t\tvar Duree :  <= 134.500000 \n",
      "\t\t\t\tvar annee :  > 1992.500000 \n",
      "\t\t\t\t\tclass : -1 {1: 175, -1: 184}\n",
      "\t\t\t\tvar annee :  <= 1992.500000 \n",
      "\t\t\t\t\tclass : 1 {-1: 9, 1: 30}\n",
      "\t\tvar Duree :  <= 110.500000 \n",
      "\t\t\tvar Animation :  > 0.500000 \n",
      "\t\t\t\tvar budget :  > 19000000.000000 \n",
      "\t\t\t\t\tclass : 1 {1: 84, -1: 55}\n",
      "\t\t\t\tvar budget :  <= 19000000.000000 \n",
      "\t\t\t\t\tclass : 1 {1: 12, -1: 1}\n",
      "\t\t\tvar Animation :  <= 0.500000 \n",
      "\t\t\t\tvar budget :  > 6160000.000000 \n",
      "\t\t\t\t\tclass : -1 {-1: 866, 1: 247}\n",
      "\t\t\t\tvar budget :  <= 6160000.000000 \n",
      "\t\t\t\t\tclass : -1 {-1: 123, 1: 99}\n",
      "\tvar annee :  <= 1984.500000 \n",
      "\t\tvar annee :  > 1965.500000 \n",
      "\t\t\tvar Horror :  > 0.500000 \n",
      "\t\t\t\tvar Duree :  > 86.500000 \n",
      "\t\t\t\t\tclass : 1 {-1: 20, 1: 32}\n",
      "\t\t\t\tvar Duree :  <= 86.500000 \n",
      "\t\t\t\t\tclass : -1 {1: 1, -1: 7}\n",
      "\t\t\tvar Horror :  <= 0.500000 \n",
      "\t\t\t\tvar budget :  > 33250000.000000 \n",
      "\t\t\t\t\tclass : -1 {-1: 7, 1: 2}\n",
      "\t\t\t\tvar budget :  <= 33250000.000000 \n",
      "\t\t\t\t\tclass : 1 {1: 122, -1: 29}\n",
      "\t\tvar annee :  <= 1965.500000 \n",
      "\t\t\tvar budget :  > 265500.000000 \n",
      "\t\t\t\tclass : 1 {1: 85}\n",
      "\t\t\tvar budget :  <= 265500.000000 \n",
      "\t\t\t\tvar annee :  > 1950.000000 \n",
      "\t\t\t\t\tclass : 1 {1: 4, -1: 3}\n",
      "\t\t\t\tvar annee :  <= 1950.000000 \n",
      "\t\t\t\t\tclass : 1 {1: 7}\n",
      "\n"
     ]
    }
   ],
   "source": [
    "from decisiontree import DecisionTree\n",
    "dt = DecisionTree ()\n",
    "dt.max_depth = 5 # on fixe la taille de l ’ arbre a 5\n",
    "dt.min_samples_split = 2 # nombre minimum d ’ exemples pour spliter un noeud\n",
    "dt.fit(datax , datay)\n",
    "dt.predict(datax[:5 ,:])\n",
    "print(dt.score(datax , datay))\n",
    "# dessine l ’ arbre dans un fichier pdf si pydot est installe .\n",
    "dt.to_pdf(\"tmp/test_tree.pdf\", fields )\n",
    "# sinon utiliser http :// www . webgraphviz . com /\n",
    "dt.to_dot ( fields )\n",
    "# ou dans la console\n",
    "print(dt.print_tree (fields ))"
   ]
  },
  {
   "cell_type": "markdown",
   "metadata": {},
   "source": [
    "### Q 1.4"
   ]
  },
  {
   "cell_type": "markdown",
   "metadata": {},
   "source": [
    "on essaye de lancer le programme avec la profondeur de 3,5,10,20"
   ]
  },
  {
   "cell_type": "code",
   "execution_count": 18,
   "metadata": {},
   "outputs": [
    {
     "name": "stdout",
     "output_type": "stream",
     "text": [
      "0.7183344233703945\n"
     ]
    }
   ],
   "source": [
    "from decisiontree import DecisionTree\n",
    "dt = DecisionTree ()\n",
    "dt.max_depth = 3 # on fixe la taille de l ’ arbre a 5\n",
    "dt.min_samples_split = 2 # nombre minimum d ’ exemples pour spliter un noeud\n",
    "dt.fit(datax , datay)\n",
    "dt.predict(datax[:5 ,:])\n",
    "print(dt.score(datax , datay))\n",
    "# dessine l ’ arbre dans un fichier pdf si pydot est installe .\n",
    "dt.to_pdf(\"tmp/test_tree3.pdf\", fields )\n",
    "# sinon utiliser http :// www . webgraphviz . com /\n",
    "#dt.to_dot ( fields )\n",
    "# ou dans la console\n",
    "#print(dt.print_tree (fields ))"
   ]
  },
  {
   "cell_type": "code",
   "execution_count": 19,
   "metadata": {},
   "outputs": [
    {
     "name": "stdout",
     "output_type": "stream",
     "text": [
      "0.736429038587312\n"
     ]
    }
   ],
   "source": [
    "from decisiontree import DecisionTree\n",
    "dt = DecisionTree ()\n",
    "dt.max_depth = 5 # on fixe la taille de l ’ arbre a 5\n",
    "dt.min_samples_split = 2 # nombre minimum d ’ exemples pour spliter un noeud\n",
    "dt.fit(datax , datay)\n",
    "dt.predict(datax[:5 ,:])\n",
    "print(dt.score(datax , datay))\n",
    "# dessine l ’ arbre dans un fichier pdf si pydot est installe .\n",
    "dt.to_pdf(\"tmp/test_tree5.pdf\", fields )\n",
    "# sinon utiliser http :// www . webgraphviz . com /\n",
    "#dt.to_dot ( fields )\n",
    "# ou dans la console\n",
    "#print(dt.print_tree (fields ))"
   ]
  },
  {
   "cell_type": "code",
   "execution_count": 20,
   "metadata": {},
   "outputs": [
    {
     "name": "stdout",
     "output_type": "stream",
     "text": [
      "0.8210159145410943\n"
     ]
    }
   ],
   "source": [
    "from decisiontree import DecisionTree\n",
    "dt = DecisionTree ()\n",
    "dt.max_depth = 10 # on fixe la taille de l ’ arbre a 5\n",
    "dt.min_samples_split = 2 # nombre minimum d ’ exemples pour spliter un noeud\n",
    "dt.fit(datax , datay)\n",
    "dt.predict(datax[:5 ,:])\n",
    "print(dt.score(datax , datay))\n",
    "# dessine l ’ arbre dans un fichier pdf si pydot est installe .\n",
    "dt.to_pdf(\"tmp/test_tree10.pdf\", fields )\n",
    "# sinon utiliser http :// www . webgraphviz . com /\n",
    "#dt.to_dot ( fields )\n",
    "# ou dans la console\n",
    "#print(dt.print_tree (fields ))"
   ]
  },
  {
   "cell_type": "code",
   "execution_count": 21,
   "metadata": {},
   "outputs": [
    {
     "name": "stdout",
     "output_type": "stream",
     "text": [
      "0.8984085458905603\n"
     ]
    }
   ],
   "source": [
    "from decisiontree import DecisionTree\n",
    "dt = DecisionTree ()\n",
    "dt.max_depth = 20 # on fixe la taille de l ’ arbre a 5\n",
    "dt.min_samples_split = 2 # nombre minimum d ’ exemples pour spliter un noeud\n",
    "dt.fit(datax , datay)\n",
    "dt.predict(datax[:5 ,:])\n",
    "print(dt.score(datax , datay))\n",
    "# dessine l ’ arbre dans un fichier pdf si pydot est installe .\n",
    "dt.to_pdf(\"tmp/test_tree20.pdf\", fields )\n",
    "# sinon utiliser http :// www . webgraphviz . com /\n",
    "#dt.to_dot ( fields )\n",
    "# ou dans la console\n",
    "#print(dt.print_tree (fields ))"
   ]
  },
  {
   "cell_type": "markdown",
   "metadata": {},
   "source": [
    "Quand on augmente la valeur de la proondeur de l'arbre, nous remarquons que le nombre dexemples croit aussi <br>\n",
    "Oui, c'est normal. Car c'est caractéristique de l'arbre"
   ]
  },
  {
   "cell_type": "markdown",
   "metadata": {},
   "source": [
    "### Q 1.5"
   ]
  },
  {
   "cell_type": "markdown",
   "metadata": {},
   "source": [
    "lorsque la profondeur de larbre augmente, nous sommes en train de considerer plus d attributs pour classifier. De ce fait resulte une meilleure classification en effectuant un partionnement plus fin de notre ensemble de depart\n",
    "c'est normal"
   ]
  },
  {
   "cell_type": "markdown",
   "metadata": {},
   "source": [
    "### Q 1.6"
   ]
  },
  {
   "cell_type": "markdown",
   "metadata": {},
   "source": [
    "Non, ces scores ne sont pas un indicateur fiable du comportement de l algorithme.car, on ne sait pas si ces scores sont meilleurs pour un ensemble de donnees general. donc, on peut utiliser la validation croisée pour touver la meilleure score pour la data gerneral."
   ]
  },
  {
   "cell_type": "markdown",
   "metadata": {},
   "source": [
    "#  <center><font size=6>Sur et sous apprentissage</font></center>"
   ]
  },
  {
   "cell_type": "markdown",
   "metadata": {},
   "source": [
    "on définis la fonctions pour général"
   ]
  },
  {
   "cell_type": "code",
   "execution_count": 22,
   "metadata": {},
   "outputs": [],
   "source": [
    "def estimationDeDecisionTree(potitonX,potitionY,DataX,DataY,dp,typeDeBut):\n",
    "    x=np.random.randint(DataX.shape[0])  #Je crée un point de coupe par random\n",
    "    pStart=x    #la potition de commencer de DataX qui est Data pour Apprentissage\n",
    "    pEnd=int(x+DataX.shape[0]*potitonX)    #la potition de fini de DataX qui est Data pour Apprentissage\n",
    "    dt = DecisionTree ()\n",
    "    dt.max_depth = dp # on fixe la taille de l ’ arbre a dp\n",
    "    dt.min_samples_split = 2 # nombre minimum d ’ exemples pour spliter un noeud\n",
    "    DataXapp,DataYapp,DataXtest,DataYtest=0,0,0,0\n",
    "    if pEnd<DataX.shape[0]:\n",
    "        DataXapp=DataX[pStart:pEnd]\n",
    "        pTStart=pEnd    #la potition de commencer de DataTest qui est Data pour Apprentissage\n",
    "        pTEnd=pStart    #la potition de fini de DataTest qui est Data pour Apprentissage\n",
    "        DataXtest=np.vstack((DataX[:pTEnd],DataX[pTStart:]))\n",
    "        #pour les dataY aussi\n",
    "        DataYapp=DataY[pStart:pEnd]\n",
    "        DataYtest=np.hstack((DataY[:pTEnd],DataY[pTStart:]))\n",
    "    else:\n",
    "        DataXapp=np.vstack((DataX[pStart:],DataX[:pEnd%DataX.shape[0]]))\n",
    "        pTStart=pEnd%DataX.shape[0]\n",
    "        pTEnd=pStart\n",
    "        DataXtest=DataX[pTStart:pTEnd]\n",
    "        #pour les dataY aussi\n",
    "        DataYapp=np.hstack((DataY[pStart:],DataY[:pEnd%DataY.shape[0]]))\n",
    "        DataYtest=DataY[pTStart:pTEnd]\n",
    "    dt.fit(DataXapp , DataYapp)\n",
    "    dt.predict(DataXtest)\n",
    "    #print(pStart,pEnd,pTStart,pTEnd)\n",
    "    #print(DataXapp.shape,DataYapp.shape,DataXtest.shape,DataYtest.shape)\n",
    "    if 'apprentissage'==typeDeBut:    #on veut savoir de socre de apprentissage\n",
    "        return dt.score(DataXapp , DataYapp)\n",
    "    elif 'test'==typeDeBut:    #on veut savoir de socre de test\n",
    "        return dt.score(DataXtest , DataYtest)"
   ]
  },
  {
   "cell_type": "markdown",
   "metadata": {},
   "source": [
    "### Q 1.7"
   ]
  },
  {
   "cell_type": "code",
   "execution_count": 23,
   "metadata": {},
   "outputs": [
    {
     "name": "stdout",
     "output_type": "stream",
     "text": [
      "[0.14067611777535438, 0.15351068469254248, 0.17825020441537198]\n"
     ]
    }
   ],
   "source": [
    "#l’erreur en apprentissage\n",
    "errAppLis=[1-estimationDeDecisionTree(0.2,0.8,datax,datay,10,'apprentissage'),\n",
    "           1-estimationDeDecisionTree(0.5,0.5,datax,datay,10,'apprentissage'),\n",
    "           1-estimationDeDecisionTree(0.8,0.2,datax,datay,10,'apprentissage')]\n",
    "print(errAppLis)"
   ]
  },
  {
   "cell_type": "markdown",
   "metadata": {},
   "source": [
    "on trace les courbes de l’erreur en apprentissage pour  (0.2, 0.8),(0.5, 0.5),(0.8, 0.2))"
   ]
  },
  {
   "cell_type": "code",
   "execution_count": 25,
   "metadata": {},
   "outputs": [
    {
     "data": {
      "image/png": "[encoded data removed]",
      "text/plain": [
       "<Figure size 432x288 with 1 Axes>"
      ]
     },
     "metadata": {
      "needs_background": "light"
     },
     "output_type": "display_data"
    }
   ],
   "source": [
    "import matplotlib.pyplot as plt\n",
    "\n",
    "plt.title(\"l'erreur en apprentissage\")\n",
    "plt.plot(['(0.2, 0.8)','(0.5, 0.5)','(0.8, 0.2)'], errAppLis)\n",
    "plt.ylabel(\"erreur\")\n",
    "plt.xlabel(\"profondeur\")\n",
    "plt.show()\n"
   ]
  },
  {
   "cell_type": "markdown",
   "metadata": {},
   "source": [
    "on calcule l’erreur en test en fonction de la profondeur du modèle. par exemple de partage de (0.8,0.2), et on prend de profondeur de 1 a 20"
   ]
  },
  {
   "cell_type": "code",
   "execution_count": 26,
   "metadata": {},
   "outputs": [
    {
     "name": "stdout",
     "output_type": "stream",
     "text": [
      "[0.3572984749455338, 0.2995642701525054, 0.2962962962962963, 0.303921568627451, 0.30065359477124187, 0.27668845315904145, 0.2777777777777778, 0.2734204793028322, 0.28867102396514166, 0.2549019607843137, 0.2995642701525054, 0.30065359477124187, 0.26252723311546844, 0.31481481481481477, 0.30718954248366015, 0.2941176470588235, 0.3017429193899782, 0.29738562091503273, 0.3126361655773421]\n"
     ]
    }
   ],
   "source": [
    "errAppLisParProfon=[]    #l’erreur en apprentissage de différent profondeur\n",
    "for i in range(1,20):\n",
    "    errAppLisParProfon.append(1-estimationDeDecisionTree(0.8,0.2,datax,datay,i,'test'))\n",
    "print(errAppLisParProfon)"
   ]
  },
  {
   "cell_type": "code",
   "execution_count": 32,
   "metadata": {},
   "outputs": [
    {
     "data": {
      "image/png": "[encoded data removed]",
      "text/plain": [
       "<Figure size 432x288 with 1 Axes>"
      ]
     },
     "metadata": {
      "needs_background": "light"
     },
     "output_type": "display_data"
    }
   ],
   "source": [
    "plt.title(\"l’erreur en apprentissage de différent profondeur\")\n",
    "xaxs=[i for i in range(1,20)]\n",
    "plt.ylabel(\"erreur\")\n",
    "plt.xlabel(\"profondeur\")\n",
    "plt.plot(xaxs, errAppLisParProfon)\n",
    " \n",
    "plt.show()"
   ]
  },
  {
   "cell_type": "markdown",
   "metadata": {},
   "source": [
    "### Q 1.8"
   ]
  },
  {
   "cell_type": "markdown",
   "metadata": {},
   "source": [
    "r:"
   ]
  },
  {
   "cell_type": "markdown",
   "metadata": {},
   "source": [
    "### Q 1.9"
   ]
  },
  {
   "cell_type": "markdown",
   "metadata": {},
   "source": [
    "r:"
   ]
  },
  {
   "cell_type": "markdown",
   "metadata": {},
   "source": [
    "#  <center><font size=6>Validation croisée : sélection de modèle</font></center>"
   ]
  },
  {
   "cell_type": "code",
   "execution_count": 28,
   "metadata": {},
   "outputs": [],
   "source": [
    "def validationCroiseeParNcas(n):\n",
    "    #n est nombre de ensembles d’apprentissage {Ei}\n",
    "    #on defini l’ensemble d’apprentissage Eapp\n",
    "    Dapp=[]    #les list de tuple de sous ensembles datax est datay d’apprentissage\n",
    "    for i in range(n):\n",
    "        Dapp.append((datax[int(i*datax.shape[0]/n):int((i+1)*datax.shape[0]/n)],datay[int(i*datay.shape[0]/n):int((i+1)*datay.shape[0]/n)]))\n",
    "    np.random.shuffle(Dapp)\n",
    "\n",
    "    #pour obtenir toutes les données sauf i\n",
    "    def autresDonnee(i,Data):\n",
    "        resultX=[]\n",
    "        resultY=[]\n",
    "        for j in range(len(Data)):\n",
    "            if j!=i:\n",
    "                if 0==len(resultX) and 0==len(resultY):\n",
    "                    resultX,resultY=Data[j]\n",
    "                else:\n",
    "                    np.vstack((resultX,Data[j][0]))\n",
    "                    np.hstack((resultY,Data[j][1]))\n",
    "        return resultX,resultY\n",
    "    lisErri=[]   #la list d'erreur en test err(Ei) est évaluée sur Ei\n",
    "    from decisiontree import DecisionTree\n",
    "    dt = DecisionTree ()\n",
    "    dt.max_depth = 20 # on fixe la taille de l ’ arbre a 5\n",
    "    dt.min_samples_split = 2 # nombre minimum d ’ exemples pour spliter un noeud\n",
    "    for i in range(n):\n",
    "        Dappi=Dapp[i]\n",
    "        DataAutre=autresDonnee(i,Dapp)\n",
    "        dt.fit(DataAutre[0],DataAutre[1])\n",
    "        lisErri.append(1-dt.score(Dappi[0],Dappi[1]))\n",
    "    #print(lisErri)\n",
    "    Eapp=sum(lisErri)/n    #l’erreur moyenne\n",
    "    #print(Eapp)\n",
    "    return Eapp"
   ]
  },
  {
   "cell_type": "code",
   "execution_count": 29,
   "metadata": {},
   "outputs": [],
   "source": [
    "#on tester de 5 a 20 parties\n",
    "lisEapp=[]   #la list de les erreurs moyennes\n",
    "for n in range(5,21):\n",
    "    lisEapp.append(validationCroiseeParNcas(n))"
   ]
  },
  {
   "cell_type": "code",
   "execution_count": 31,
   "metadata": {},
   "outputs": [
    {
     "data": {
      "image/png": "[encoded data removed]",
      "text/plain": [
       "<Figure size 432x288 with 1 Axes>"
      ]
     },
     "metadata": {
      "needs_background": "light"
     },
     "output_type": "display_data"
    }
   ],
   "source": [
    "plt.title(\"Validation croisée des erreurs moyennes sur N cas:\")\n",
    "xaxs=[i for i in range(5,21)]\n",
    "plt.ylabel(\"erreurs\")\n",
    "plt.xlabel(\"N cas\")\n",
    "plt.plot(xaxs,lisEapp)\n",
    " \n",
    "plt.show()"
   ]
  },
  {
   "cell_type": "code",
   "execution_count": null,
   "metadata": {},
   "outputs": [],
   "source": []
  }
 ],
 "metadata": {
  "kernelspec": {
   "display_name": "Python 3",
   "language": "python",
   "name": "python3"
  },
  "language_info": {
   "codemirror_mode": {
    "name": "ipython",
    "version": 3
   },
   "file_extension": ".py",
   "mimetype": "text/x-python",
   "name": "python",
   "nbconvert_exporter": "python",
   "pygments_lexer": "ipython3",
   "version": "3.7.1"
  }
 },
 "nbformat": 4,
 "nbformat_minor": 2
}
