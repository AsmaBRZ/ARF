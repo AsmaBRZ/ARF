{
 "cells": [
  {
   "cell_type": "markdown",
   "metadata": {},
   "source": [
    "# <center><font size=7>TME 1 - Arbres de décision, sélection de modèles</font></center>"
   ]
  },
  {
   "cell_type": "markdown",
   "metadata": {},
   "source": [
    "# <center><font size=6>L’essentiel sur les arbres de décision</font></center>"
   ]
  },
  {
   "cell_type": "markdown",
   "metadata": {},
   "source": [
    "## Exercice 1 – Entropie (partie optionnelle)"
   ]
  },
  {
   "cell_type": "markdown",
   "metadata": {},
   "source": [
    "### Q 1.1"
   ]
  },
  {
   "cell_type": "code",
   "execution_count": 1,
   "metadata": {},
   "outputs": [
    {
     "name": "stdout",
     "output_type": "stream",
     "text": [
      "##################################################\n",
      "test la fonction entropie 2.2359263506290326\n",
      "##################################################\n"
     ]
    }
   ],
   "source": [
    "import numpy as np\n",
    "from collections import Counter\n",
    "import pickle\n",
    "\n",
    "def entropie(vect):\n",
    "    ylen = float(vect.size)\n",
    "    if ylen <= 1:\n",
    "        return 0\n",
    "    freq = np.array(list(Counter(vect).values()))/ylen\n",
    "    return -np.nan_to_num(np.sum(freq*np.log2(freq)))\n",
    "\n",
    "x=np.array([1,2,1,2,4,5,6])\n",
    "print(\"#\"*50)\n",
    "print(\"test la fonction entropie\",entropie(x))\n",
    "print(\"#\"*50)"
   ]
  },
  {
   "cell_type": "markdown",
   "metadata": {},
   "source": [
    "### Q 1.2"
   ]
  },
  {
   "cell_type": "code",
   "execution_count": 2,
   "metadata": {},
   "outputs": [],
   "source": [
    "def entropie_cond(y_list):\n",
    "    h, total = 0.,0.\n",
    "    for y in y_list:\n",
    "        h += len(y)*entropie(y)\n",
    "        total += len(y)\n",
    "    return h/total"
   ]
  },
  {
   "cell_type": "markdown",
   "metadata": {},
   "source": [
    "### Q 1.3"
   ]
  },
  {
   "cell_type": "code",
   "execution_count": 3,
   "metadata": {},
   "outputs": [],
   "source": [
    "# data : tableau ( films , features ) , id2titles : dictionnaire id -> titre ,\n",
    "# fields : id feature -> nom\n",
    "[data,id2titles, fields]= pickle.load(open(\"imdb_extrait.pkl\",\"rb\"))\n",
    "# la derniere colonne est le vote\n",
    "datax = data [: ,:32]\n",
    "datay = np . array ([1 if x [33] >6.5 else -1 for x in data ])"
   ]
  },
  {
   "cell_type": "code",
   "execution_count": 4,
   "metadata": {},
   "outputs": [
    {
     "name": "stdout",
     "output_type": "stream",
     "text": [
      "##################################################\n",
      "Calcul de la différence entre l’entropie et l’entropie conditionnelle pour chaque attribut:\n",
      "29\n",
      "##################################################\n"
     ]
    }
   ],
   "source": [
    " print(\"#\"*50)\n",
    "print(\"Calcul de la différence entre l’entropie et l’entropie conditionnelle pour chaque attribut:\")\n",
    "differenceDeEntropieEtEntropieConditionnelle=[] #la différence entre l’entropie et l’entropie conditionnelle pour chaque attribut\n",
    "databinaire=data[: ,:29].T\n",
    "entrCondDataX=entropie_cond(databinaire)\n",
    "for i in range(databinaire.shape[0]):\n",
    "    differenceDeEntropieEtEntropieConditionnelle.append(entropie(databinaire[i])-entrCondDataX)\n",
    "print(29-np.argmin(np.abs(differenceDeEntropieEtEntropieConditionnelle)))    #car on a transforme la matrice de data,donc la première en fait est la dernier\n",
    "#print(differenceDeEntropieEtEntropieConditionnelle)\n",
    "print(\"#\"*50)"
   ]
  },
  {
   "cell_type": "markdown",
   "metadata": {},
   "source": [
    " Lorsque nous calculons la différence d entre l'entropie et l'entropie conditionnelle H(Y)-H(Y|X), différents cas se présentent: Nous interpretons les valeurs obtenues comme suit:<br>\n",
    "-d=0: Ceci voudrait dire que H(Y)=H(Y|X). Donc, Y et X sont indépendants, autrement dit, la réalisation de l'un des deux n'affectent en aucun cas la probabilité de la réalisation de l'autre<br>\n",
    "-d=1 (normalisé): Pour cela, H(Y)=1 et H(Y|X)=0. Dans ce cas, et pour H(Y)=1, l'entropie est maximale Le meilleur attribut pour la première partition est couleur"
   ]
  },
  {
   "cell_type": "markdown",
   "metadata": {},
   "source": [
    "## Quelques expériences préliminaires"
   ]
  },
  {
   "cell_type": "code",
   "execution_count": 5,
   "metadata": {},
   "outputs": [
    {
     "name": "stdout",
     "output_type": "stream",
     "text": [
      "Pydot non disponible pour l'affichage graphique, allez sur http://www.webgraphviz.com/ pour generer un apercu de l'arbre\n",
      "0.736429038587312\n"
     ]
    },
    {
     "ename": "NameError",
     "evalue": "name 'pydot' is not defined",
     "output_type": "error",
     "traceback": [
      "\u001b[0;31m---------------------------------------------------------------------------\u001b[0m",
      "\u001b[0;31mNameError\u001b[0m                                 Traceback (most recent call last)",
      "\u001b[0;32m<ipython-input-5-d7bdcb4fa617>\u001b[0m in \u001b[0;36m<module>\u001b[0;34m\u001b[0m\n\u001b[1;32m      7\u001b[0m \u001b[0mprint\u001b[0m\u001b[0;34m(\u001b[0m\u001b[0mdt\u001b[0m\u001b[0;34m.\u001b[0m\u001b[0mscore\u001b[0m\u001b[0;34m(\u001b[0m\u001b[0mdatax\u001b[0m \u001b[0;34m,\u001b[0m \u001b[0mdatay\u001b[0m\u001b[0;34m)\u001b[0m\u001b[0;34m)\u001b[0m\u001b[0;34m\u001b[0m\u001b[0;34m\u001b[0m\u001b[0m\n\u001b[1;32m      8\u001b[0m \u001b[0;31m# dessine l ’ arbre dans un fichier pdf si pydot est installe .\u001b[0m\u001b[0;34m\u001b[0m\u001b[0;34m\u001b[0m\u001b[0;34m\u001b[0m\u001b[0m\n\u001b[0;32m----> 9\u001b[0;31m \u001b[0mdt\u001b[0m\u001b[0;34m.\u001b[0m\u001b[0mto_pdf\u001b[0m\u001b[0;34m(\u001b[0m\u001b[0;34m\"src/test_tree.pdf\"\u001b[0m\u001b[0;34m,\u001b[0m \u001b[0mfields\u001b[0m \u001b[0;34m)\u001b[0m\u001b[0;34m\u001b[0m\u001b[0;34m\u001b[0m\u001b[0m\n\u001b[0m\u001b[1;32m     10\u001b[0m \u001b[0;31m# sinon utiliser http :// www . webgraphviz . com /\u001b[0m\u001b[0;34m\u001b[0m\u001b[0;34m\u001b[0m\u001b[0;34m\u001b[0m\u001b[0m\n\u001b[1;32m     11\u001b[0m \u001b[0mdt\u001b[0m\u001b[0;34m.\u001b[0m\u001b[0mto_dot\u001b[0m \u001b[0;34m(\u001b[0m \u001b[0mfields\u001b[0m \u001b[0;34m)\u001b[0m\u001b[0;34m\u001b[0m\u001b[0;34m\u001b[0m\u001b[0m\n",
      "\u001b[0;32m~/Documents/Études/GITLAB/arf/TME1/decisiontree.py\u001b[0m in \u001b[0;36mto_pdf\u001b[0;34m(self, filename, dic_var)\u001b[0m\n\u001b[1;32m    221\u001b[0m \u001b[0;34m\u001b[0m\u001b[0m\n\u001b[1;32m    222\u001b[0m     \u001b[0;32mdef\u001b[0m \u001b[0mto_pdf\u001b[0m\u001b[0;34m(\u001b[0m\u001b[0mself\u001b[0m\u001b[0;34m,\u001b[0m\u001b[0mfilename\u001b[0m\u001b[0;34m,\u001b[0m\u001b[0mdic_var\u001b[0m\u001b[0;34m=\u001b[0m\u001b[0;32mNone\u001b[0m\u001b[0;34m)\u001b[0m\u001b[0;34m:\u001b[0m\u001b[0;34m\u001b[0m\u001b[0;34m\u001b[0m\u001b[0m\n\u001b[0;32m--> 223\u001b[0;31m         \u001b[0mpydot\u001b[0m\u001b[0;34m.\u001b[0m\u001b[0mgraph_from_dot_data\u001b[0m\u001b[0;34m(\u001b[0m\u001b[0mself\u001b[0m\u001b[0;34m.\u001b[0m\u001b[0mto_dot\u001b[0m\u001b[0;34m(\u001b[0m\u001b[0mdic_var\u001b[0m\u001b[0;34m)\u001b[0m\u001b[0;34m)\u001b[0m\u001b[0;34m[\u001b[0m\u001b[0;36m0\u001b[0m\u001b[0;34m]\u001b[0m\u001b[0;34m.\u001b[0m\u001b[0mwrite_pdf\u001b[0m\u001b[0;34m(\u001b[0m\u001b[0mfilename\u001b[0m\u001b[0;34m)\u001b[0m\u001b[0;34m\u001b[0m\u001b[0;34m\u001b[0m\u001b[0m\n\u001b[0m\u001b[1;32m    224\u001b[0m \u001b[0;34m\u001b[0m\u001b[0m\n\u001b[1;32m    225\u001b[0m     \u001b[0;32mdef\u001b[0m \u001b[0mprint_tree\u001b[0m\u001b[0;34m(\u001b[0m\u001b[0mself\u001b[0m\u001b[0;34m,\u001b[0m\u001b[0mfields\u001b[0m\u001b[0;34m=\u001b[0m\u001b[0;32mNone\u001b[0m\u001b[0;34m)\u001b[0m\u001b[0;34m:\u001b[0m\u001b[0;34m\u001b[0m\u001b[0;34m\u001b[0m\u001b[0m\n",
      "\u001b[0;31mNameError\u001b[0m: name 'pydot' is not defined"
     ]
    }
   ],
   "source": [
    "from decisiontree import DecisionTree\n",
    "dt = DecisionTree ()\n",
    "dt.max_depth = 5 # on fixe la taille de l ’ arbre a 5\n",
    "dt.min_samples_split = 2 # nombre minimum d ’ exemples pour spliter un noeud\n",
    "dt.fit(datax , datay)\n",
    "dt.predict(datax[:5 ,:])\n",
    "print(dt.score(datax , datay))\n",
    "# dessine l ’ arbre dans un fichier pdf si pydot est installe .\n",
    "dt.to_pdf(\"src/test_tree.pdf\", fields )\n",
    "# sinon utiliser http :// www . webgraphviz . com /\n",
    "dt.to_dot ( fields )\n",
    "# ou dans la console\n",
    "print(dt.print_tree (fields ))"
   ]
  },
  {
   "cell_type": "markdown",
   "metadata": {},
   "source": [
    "### Q 1.4"
   ]
  },
  {
   "cell_type": "markdown",
   "metadata": {},
   "source": [
    "on essaye de lancer le programme avec la profondeur de 3,5,10,20"
   ]
  },
  {
   "cell_type": "code",
   "execution_count": 14,
   "metadata": {},
   "outputs": [
    {
     "name": "stdout",
     "output_type": "stream",
     "text": [
      "0.7183344233703945\n"
     ]
    },
    {
     "ename": "NameError",
     "evalue": "name 'pydot' is not defined",
     "output_type": "error",
     "traceback": [
      "\u001b[0;31m---------------------------------------------------------------------------\u001b[0m",
      "\u001b[0;31mNameError\u001b[0m                                 Traceback (most recent call last)",
      "\u001b[0;32m<ipython-input-14-045ef6c8b7c7>\u001b[0m in \u001b[0;36m<module>\u001b[0;34m\u001b[0m\n\u001b[1;32m      7\u001b[0m \u001b[0mprint\u001b[0m\u001b[0;34m(\u001b[0m\u001b[0mdt\u001b[0m\u001b[0;34m.\u001b[0m\u001b[0mscore\u001b[0m\u001b[0;34m(\u001b[0m\u001b[0mdatax\u001b[0m \u001b[0;34m,\u001b[0m \u001b[0mdatay\u001b[0m\u001b[0;34m)\u001b[0m\u001b[0;34m)\u001b[0m\u001b[0;34m\u001b[0m\u001b[0;34m\u001b[0m\u001b[0m\n\u001b[1;32m      8\u001b[0m \u001b[0;31m# dessine l ’ arbre dans un fichier pdf si pydot est installe .\u001b[0m\u001b[0;34m\u001b[0m\u001b[0;34m\u001b[0m\u001b[0;34m\u001b[0m\u001b[0m\n\u001b[0;32m----> 9\u001b[0;31m \u001b[0mdt\u001b[0m\u001b[0;34m.\u001b[0m\u001b[0mto_pdf\u001b[0m\u001b[0;34m(\u001b[0m\u001b[0;34m\"tmp/test_tree3.pdf\"\u001b[0m\u001b[0;34m,\u001b[0m \u001b[0mfields\u001b[0m \u001b[0;34m)\u001b[0m\u001b[0;34m\u001b[0m\u001b[0;34m\u001b[0m\u001b[0m\n\u001b[0m\u001b[1;32m     10\u001b[0m \u001b[0;31m# sinon utiliser http :// www . webgraphviz . com /\u001b[0m\u001b[0;34m\u001b[0m\u001b[0;34m\u001b[0m\u001b[0;34m\u001b[0m\u001b[0m\n\u001b[1;32m     11\u001b[0m \u001b[0;31m#dt.to_dot ( fields )\u001b[0m\u001b[0;34m\u001b[0m\u001b[0;34m\u001b[0m\u001b[0;34m\u001b[0m\u001b[0m\n",
      "\u001b[0;32m~/Documents/Études/GITLAB/arf/TME1/decisiontree.py\u001b[0m in \u001b[0;36mto_pdf\u001b[0;34m(self, filename, dic_var)\u001b[0m\n\u001b[1;32m    221\u001b[0m \u001b[0;34m\u001b[0m\u001b[0m\n\u001b[1;32m    222\u001b[0m     \u001b[0;32mdef\u001b[0m \u001b[0mto_pdf\u001b[0m\u001b[0;34m(\u001b[0m\u001b[0mself\u001b[0m\u001b[0;34m,\u001b[0m\u001b[0mfilename\u001b[0m\u001b[0;34m,\u001b[0m\u001b[0mdic_var\u001b[0m\u001b[0;34m=\u001b[0m\u001b[0;32mNone\u001b[0m\u001b[0;34m)\u001b[0m\u001b[0;34m:\u001b[0m\u001b[0;34m\u001b[0m\u001b[0;34m\u001b[0m\u001b[0m\n\u001b[0;32m--> 223\u001b[0;31m         \u001b[0mpydot\u001b[0m\u001b[0;34m.\u001b[0m\u001b[0mgraph_from_dot_data\u001b[0m\u001b[0;34m(\u001b[0m\u001b[0mself\u001b[0m\u001b[0;34m.\u001b[0m\u001b[0mto_dot\u001b[0m\u001b[0;34m(\u001b[0m\u001b[0mdic_var\u001b[0m\u001b[0;34m)\u001b[0m\u001b[0;34m)\u001b[0m\u001b[0;34m[\u001b[0m\u001b[0;36m0\u001b[0m\u001b[0;34m]\u001b[0m\u001b[0;34m.\u001b[0m\u001b[0mwrite_pdf\u001b[0m\u001b[0;34m(\u001b[0m\u001b[0mfilename\u001b[0m\u001b[0;34m)\u001b[0m\u001b[0;34m\u001b[0m\u001b[0;34m\u001b[0m\u001b[0m\n\u001b[0m\u001b[1;32m    224\u001b[0m \u001b[0;34m\u001b[0m\u001b[0m\n\u001b[1;32m    225\u001b[0m     \u001b[0;32mdef\u001b[0m \u001b[0mprint_tree\u001b[0m\u001b[0;34m(\u001b[0m\u001b[0mself\u001b[0m\u001b[0;34m,\u001b[0m\u001b[0mfields\u001b[0m\u001b[0;34m=\u001b[0m\u001b[0;32mNone\u001b[0m\u001b[0;34m)\u001b[0m\u001b[0;34m:\u001b[0m\u001b[0;34m\u001b[0m\u001b[0;34m\u001b[0m\u001b[0m\n",
      "\u001b[0;31mNameError\u001b[0m: name 'pydot' is not defined"
     ]
    }
   ],
   "source": [
    "from decisiontree import DecisionTree\n",
    "dt = DecisionTree ()\n",
    "dt.max_depth = 3 # on fixe la taille de l ’ arbre a 5\n",
    "dt.min_samples_split = 2 # nombre minimum d ’ exemples pour spliter un noeud\n",
    "dt.fit(datax , datay)\n",
    "dt.predict(datax[:5 ,:])\n",
    "print(dt.score(datax , datay))\n",
    "# dessine l ’ arbre dans un fichier pdf si pydot est installe .\n",
    "dt.to_pdf(\"tmp/test_tree3.pdf\", fields )\n",
    "# sinon utiliser http :// www . webgraphviz . com /\n",
    "#dt.to_dot ( fields )\n",
    "# ou dans la console\n",
    "#print(dt.print_tree (fields ))"
   ]
  },
  {
   "cell_type": "code",
   "execution_count": null,
   "metadata": {},
   "outputs": [],
   "source": [
    "from decisiontree import DecisionTree\n",
    "dt = DecisionTree ()\n",
    "dt.max_depth = 5 # on fixe la taille de l ’ arbre a 5\n",
    "dt.min_samples_split = 2 # nombre minimum d ’ exemples pour spliter un noeud\n",
    "dt.fit(datax , datay)\n",
    "dt.predict(datax[:5 ,:])\n",
    "print(dt.score(datax , datay))\n",
    "# dessine l ’ arbre dans un fichier pdf si pydot est installe .\n",
    "dt.to_pdf(\"tmp/test_tree5.pdf\", fields )\n",
    "# sinon utiliser http :// www . webgraphviz . com /\n",
    "#dt.to_dot ( fields )\n",
    "# ou dans la console\n",
    "#print(dt.print_tree (fields ))"
   ]
  },
  {
   "cell_type": "code",
   "execution_count": null,
   "metadata": {},
   "outputs": [],
   "source": [
    "from decisiontree import DecisionTree\n",
    "dt = DecisionTree ()\n",
    "dt.max_depth = 10 # on fixe la taille de l ’ arbre a 5\n",
    "dt.min_samples_split = 2 # nombre minimum d ’ exemples pour spliter un noeud\n",
    "dt.fit(datax , datay)\n",
    "dt.predict(datax[:5 ,:])\n",
    "print(dt.score(datax , datay))\n",
    "# dessine l ’ arbre dans un fichier pdf si pydot est installe .\n",
    "dt.to_pdf(\"tmp/test_tree10.pdf\", fields )\n",
    "# sinon utiliser http :// www . webgraphviz . com /\n",
    "#dt.to_dot ( fields )\n",
    "# ou dans la console\n",
    "#print(dt.print_tree (fields ))"
   ]
  },
  {
   "cell_type": "code",
   "execution_count": null,
   "metadata": {},
   "outputs": [],
   "source": [
    "from decisiontree import DecisionTree\n",
    "dt = DecisionTree ()\n",
    "dt.max_depth = 20 # on fixe la taille de l ’ arbre a 5\n",
    "dt.min_samples_split = 2 # nombre minimum d ’ exemples pour spliter un noeud\n",
    "dt.fit(datax , datay)\n",
    "dt.predict(datax[:5 ,:])\n",
    "print(dt.score(datax , datay))\n",
    "# dessine l ’ arbre dans un fichier pdf si pydot est installe .\n",
    "dt.to_pdf(\"tmp/test_tree20.pdf\", fields )\n",
    "# sinon utiliser http :// www . webgraphviz . com /\n",
    "#dt.to_dot ( fields )\n",
    "# ou dans la console\n",
    "#print(dt.print_tree (fields ))"
   ]
  },
  {
   "cell_type": "markdown",
   "metadata": {},
   "source": [
    "### Q 1.5"
   ]
  },
  {
   "cell_type": "markdown",
   "metadata": {},
   "source": [
    " Lorsque la profondeur de larbre augmente, nous sommes en train de considerer plus d'attributs pour classifier. De ce fait resulte une meilleure classification en effectuant un partionnement plus fin de notre ensemble de depart\n",
    "c'est normal,  car une profondeur de grande valeur spécialise plus la classification."
   ]
  },
  {
   "cell_type": "markdown",
   "metadata": {},
   "source": [
    "### Q 1.6"
   ]
  },
  {
   "cell_type": "markdown",
   "metadata": {},
   "source": [
    " Non, ces scores ne sont pas un indicateur fiable du comportement de l algorithme.car, on ne sait pas si ces scores sont meilleurs pour un ensemble de donnees general, comme nous estimons les scores sur l'ensemble d'apprentissage.\n",
    "Afin de trouver un meilleur score pour la data générale, nous pourrons utiliser la validation croisée."
   ]
  },
  {
   "cell_type": "markdown",
   "metadata": {},
   "source": [
    "#  <center><font size=6>Sur et sous apprentissage</font></center>"
   ]
  },
  {
   "cell_type": "markdown",
   "metadata": {},
   "source": [
    "Définition des fonctions"
   ]
  },
  {
   "cell_type": "code",
   "execution_count": 15,
   "metadata": {},
   "outputs": [],
   "source": [
    "def estimationDeDecisionTree(potitonX,potitionY,DataX,DataY,dp,typeDeBut):\n",
    "    x=np.random.randint(DataX.shape[0])  #Je crée un point de coupe par random\n",
    "    pStart=x    #la potition de commencer de DataX qui est Data pour Apprentissage\n",
    "    pEnd=int(x+DataX.shape[0]*potitonX)    #la potition de fini de DataX qui est Data pour Apprentissage\n",
    "    dt = DecisionTree ()\n",
    "    dt.max_depth = dp # on fixe la taille de l ’ arbre a dp\n",
    "    dt.min_samples_split = 2 # nombre minimum d ’ exemples pour spliter un noeud\n",
    "    DataXapp,DataYapp,DataXtest,DataYtest=0,0,0,0\n",
    "    if pEnd<DataX.shape[0]:\n",
    "        DataXapp=DataX[pStart:pEnd]\n",
    "        pTStart=pEnd    #la potition de commencer de DataTest qui est Data pour Apprentissage\n",
    "        pTEnd=pStart    #la potition de fini de DataTest qui est Data pour Apprentissage\n",
    "        DataXtest=np.vstack((DataX[:pTEnd],DataX[pTStart:]))\n",
    "        #pour les dataY aussi\n",
    "        DataYapp=DataY[pStart:pEnd]\n",
    "        DataYtest=np.hstack((DataY[:pTEnd],DataY[pTStart:]))\n",
    "    else:\n",
    "        DataXapp=np.vstack((DataX[pStart:],DataX[:pEnd%DataX.shape[0]]))\n",
    "        pTStart=pEnd%DataX.shape[0]\n",
    "        pTEnd=pStart\n",
    "        DataXtest=DataX[pTStart:pTEnd]\n",
    "        #pour les dataY aussi\n",
    "        DataYapp=np.hstack((DataY[pStart:],DataY[:pEnd%DataY.shape[0]]))\n",
    "        DataYtest=DataY[pTStart:pTEnd]\n",
    "    dt.fit(DataXapp , DataYapp)\n",
    "    dt.predict(DataXtest)\n",
    "    #print(pStart,pEnd,pTStart,pTEnd)\n",
    "    #print(DataXapp.shape,DataYapp.shape,DataXtest.shape,DataYtest.shape)\n",
    "    if 'apprentissage'==typeDeBut:    #on veut savoir de socre de apprentissage\n",
    "        return dt.score(DataXapp , DataYapp)\n",
    "    elif 'test'==typeDeBut:    #on veut savoir de socre de test\n",
    "        return dt.score(DataXtest , DataYtest)"
   ]
  },
  {
   "cell_type": "markdown",
   "metadata": {},
   "source": [
    "### Q 1.7"
   ]
  },
  {
   "cell_type": "code",
   "execution_count": 16,
   "metadata": {},
   "outputs": [
    {
     "name": "stdout",
     "output_type": "stream",
     "text": [
      "[0.11777535441657583, 0.17880505887483644, 0.1834287271736168]\n"
     ]
    }
   ],
   "source": [
    "#l’erreur en apprentissage\n",
    "errAppLis=[1-estimationDeDecisionTree(0.2,0.8,datax,datay,10,'apprentissage'),\n",
    "           1-estimationDeDecisionTree(0.5,0.5,datax,datay,10,'apprentissage'),\n",
    "           1-estimationDeDecisionTree(0.8,0.2,datax,datay,10,'apprentissage')]\n",
    "print(errAppLis)"
   ]
  },
  {
   "cell_type": "markdown",
   "metadata": {},
   "source": [
    "on trace les courbes de l’erreur en apprentissage pour  (0.2, 0.8),(0.5, 0.5),(0.8, 0.2))"
   ]
  },
  {
   "cell_type": "code",
   "execution_count": 17,
   "metadata": {},
   "outputs": [
    {
     "data": {
      "image/png": "[encoded data removed]",
      "text/plain": [
       "<Figure size 432x288 with 1 Axes>"
      ]
     },
     "metadata": {
      "needs_background": "light"
     },
     "output_type": "display_data"
    }
   ],
   "source": [
    "import matplotlib.pyplot as plt\n",
    "\n",
    "plt.title(\"l'erreur en apprentissage\")\n",
    "plt.plot(['(0.2, 0.8)','(0.5, 0.5)','(0.8, 0.2)'], errAppLis)\n",
    "plt.ylabel(\"erreur\")\n",
    "plt.xlabel(\"profondeur\")\n",
    "plt.show()\n"
   ]
  },
  {
   "cell_type": "markdown",
   "metadata": {},
   "source": [
    "On calcule l’erreur en test en fonction de la profondeur du modèle. par exemple de partage de (0.8,0.2), et on prend de profondeur de 1 a 20"
   ]
  },
  {
   "cell_type": "code",
   "execution_count": 18,
   "metadata": {},
   "outputs": [
    {
     "name": "stdout",
     "output_type": "stream",
     "text": [
      "[0.37037037037037035, 0.3322440087145969, 0.2962962962962963, 0.2875816993464052, 0.29520697167755994, 0.2854030501089324, 0.2799564270152506, 0.2875816993464052, 0.2668845315904139, 0.2962962962962963, 0.318082788671024, 0.30283224400871456, 0.2647058823529411, 0.2995642701525054, 0.3104575163398693, 0.31917211328976036, 0.29302832244008714, 0.3224400871459695, 0.31699346405228757]\n"
     ]
    }
   ],
   "source": [
    "errAppLisParProfon=[]    #l’erreur en apprentissage de différent profondeur\n",
    "for i in range(1,20):\n",
    "    errAppLisParProfon.append(1-estimationDeDecisionTree(0.8,0.2,datax,datay,i,'test'))\n",
    "print(errAppLisParProfon)"
   ]
  },
  {
   "cell_type": "code",
   "execution_count": 19,
   "metadata": {},
   "outputs": [
    {
     "data": {
      "image/png": "[encoded data removed]",
      "text/plain": [
       "<Figure size 432x288 with 1 Axes>"
      ]
     },
     "metadata": {
      "needs_background": "light"
     },
     "output_type": "display_data"
    }
   ],
   "source": [
    "plt.title(\"l’erreur en apprentissage en fonction de la profondeur\")\n",
    "xaxs=[i for i in range(1,20)]\n",
    "plt.ylabel(\"erreur\")\n",
    "plt.xlabel(\"profondeur\")\n",
    "plt.plot(xaxs, errAppLisParProfon)\n",
    " \n",
    "plt.show()"
   ]
  },
  {
   "cell_type": "code",
   "execution_count": 20,
   "metadata": {},
   "outputs": [
    {
     "name": "stdout",
     "output_type": "stream",
     "text": [
      "[0.37094576178795313, 0.31561733442354867, 0.3079858272008722, 0.276369582992641, 0.2605614608885255, 0.24093758517307173, 0.22621967838648138, 0.20932134096484056, 0.1896974652493868, 0.1708912510220768, 0.15562823657672387, 0.15044971381847916, 0.1302807304442627, 0.11719814663396022, 0.1120196238757154, 0.11965113109839198, 0.09866448623603163, 0.1128372853638594, 0.08830744071954211]\n"
     ]
    }
   ],
   "source": [
    "errAppLisParProfon=[]    #l’erreur en apprentissage de différent profondeur\n",
    "for i in range(1,20):\n",
    "    errAppLisParProfon.append(1-estimationDeDecisionTree(0.8,0.2,datax,datay,i,'apprentissage'))\n",
    "print(errAppLisParProfon)"
   ]
  },
  {
   "cell_type": "code",
   "execution_count": 21,
   "metadata": {},
   "outputs": [
    {
     "data": {
      "image/png": "[encoded data removed]",
      "text/plain": [
       "<Figure size 432x288 with 1 Axes>"
      ]
     },
     "metadata": {
      "needs_background": "light"
     },
     "output_type": "display_data"
    }
   ],
   "source": [
    "plt.title(\"l’erreur en apprentissage de différent profondeur\")\n",
    "xaxs=[i for i in range(1,20)]\n",
    "plt.ylabel(\"erreur\")\n",
    "plt.xlabel(\"profondeur\")\n",
    "plt.plot(xaxs, errAppLisParProfon)\n",
    " \n",
    "plt.show()"
   ]
  },
  {
   "cell_type": "markdown",
   "metadata": {},
   "source": [
    "### Q 1.8"
   ]
  },
  {
   "cell_type": "markdown",
   "metadata": {},
   "source": [
    " Quand il y a peu d'exemples d'apprentissage, le score de prédiction est faible. D'ailleurs, nous sommes presque dans l'aléatoire. Dans le cas contraire, lorsqu'il y a beaucoup d'exemples d'apprentissage, le modèle sur-apprend et il sera pas très bon à la prédiction. Par conséquent, nous obtenons un score faible à la prédiction. D'où une faible performance.Pour la première erreur le modèle n'apprend pas suffisamment, alors que pour la deuxième erreur le modèle apprend beaucoup et il devient incapable de généraliser et donc moins flexible."
   ]
  },
  {
   "cell_type": "markdown",
   "metadata": {},
   "source": [
    "### Q 1.9"
   ]
  },
  {
   "cell_type": "markdown",
   "metadata": {},
   "source": [
    "Quand la profondeur est très grande, le modèle fait plus d'erreurs.Pour améliorer les résultats, nous devons trouver un compromis entre le sur-apprentissage et le sous-apprentissage, où le modèle est bon sur les deux ensembles d'apprentissages et de test.Pour cela, nous pourrons utiliser un ensemble de validation. Ceci reste une méthode simple et efficace. Ce qui permet d'entrainer et de tester le modèle K fois sur différents sous-ensembles et d'estimer la performance sur de nouvelles données."
   ]
  },
  {
   "cell_type": "markdown",
   "metadata": {},
   "source": [
    "#  <center><font size=6>Validation croisée : sélection de modèle</font></center>"
   ]
  },
  {
   "cell_type": "code",
   "execution_count": null,
   "metadata": {},
   "outputs": [],
   "source": [
    "def validationCroiseeParNcas(n):\n",
    "    #n est nombre de ensembles d’apprentissage {Ei}\n",
    "    #on defini l’ensemble d’apprentissage Eapp\n",
    "    Dapp=[]    #les list de tuple de sous ensembles datax est datay d’apprentissage\n",
    "    for i in range(n):\n",
    "        Dapp.append((datax[int(i*datax.shape[0]/n):int((i+1)*datax.shape[0]/n)],datay[int(i*datay.shape[0]/n):int((i+1)*datay.shape[0]/n)]))\n",
    "    np.random.shuffle(Dapp)\n",
    "\n",
    "    #pour obtenir toutes les données sauf i\n",
    "    def autresDonnee(i,Data):\n",
    "        resultX=[]\n",
    "        resultY=[]\n",
    "        for j in range(len(Data)):\n",
    "            if j!=i:\n",
    "                if 0==len(resultX) and 0==len(resultY):\n",
    "                    resultX,resultY=Data[j]\n",
    "                else:\n",
    "                    np.vstack((resultX,Data[j][0]))\n",
    "                    np.hstack((resultY,Data[j][1]))\n",
    "        return resultX,resultY\n",
    "    lisErri=[]   #la list d'erreur en test err(Ei) est évaluée sur Ei\n",
    "    from decisiontree import DecisionTree\n",
    "    dt = DecisionTree ()\n",
    "    dt.max_depth = 20 # on fixe la taille de l ’ arbre a 5\n",
    "    dt.min_samples_split = 2 # nombre minimum d ’ exemples pour spliter un noeud\n",
    "    for i in range(n):\n",
    "        Dappi=Dapp[i]\n",
    "        DataAutre=autresDonnee(i,Dapp)\n",
    "        dt.fit(DataAutre[0],DataAutre[1])\n",
    "        lisErri.append(1-dt.score(Dappi[0],Dappi[1]))\n",
    "    #print(lisErri)\n",
    "    Eapp=sum(lisErri)/n    #l’erreur moyenne\n",
    "    #print(Eapp)\n",
    "    return Eapp"
   ]
  },
  {
   "cell_type": "code",
   "execution_count": null,
   "metadata": {},
   "outputs": [],
   "source": [
    "#on tester de 5 a 20 parties\n",
    "lisEapp=[]   #la list de les erreurs moyennes\n",
    "for n in range(5,21):\n",
    "    lisEapp.append(validationCroiseeParNcas(n))"
   ]
  },
  {
   "cell_type": "code",
   "execution_count": null,
   "metadata": {},
   "outputs": [],
   "source": [
    "plt.title(\"Validation croisée des erreurs moyennes sur N cas:\")\n",
    "xaxs=[i for i in range(5,21)]\n",
    "plt.ylabel(\"erreurs\")\n",
    "plt.xlabel(\"N cas\")\n",
    "plt.plot(xaxs,lisEapp)\n",
    " \n",
    "plt.show()"
   ]
  },
  {
   "cell_type": "markdown",
   "metadata": {},
   "source": [
    "Avec une profondeur égale à 10, le modèle fait le moins d'erreur, estimé à 0.31"
   ]
  }
 ],
 "metadata": {
  "kernelspec": {
   "display_name": "Python 3",
   "language": "python",
   "name": "python3"
  },
  "language_info": {
   "codemirror_mode": {
    "name": "ipython",
    "version": 3
   },
   "file_extension": ".py",
   "mimetype": "text/x-python",
   "name": "python",
   "nbconvert_exporter": "python",
   "pygments_lexer": "ipython3",
   "version": "3.7.1"
  }
 },
 "nbformat": 4,
 "nbformat_minor": 2
}
